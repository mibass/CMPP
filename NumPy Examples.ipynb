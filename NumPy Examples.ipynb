{
 "cells": [
  {
   "cell_type": "markdown",
   "metadata": {},
   "source": [
    "## NumPy Basics\n",
    "\n",
    "For a more detailed tutorial on numpy see: https://docs.scipy.org/doc/numpy-dev/user/quickstart.html\n"
   ]
  },
  {
   "cell_type": "code",
   "execution_count": 3,
   "metadata": {
    "collapsed": false,
    "nbpresent": {
     "id": "0e08a356-5294-475f-a643-8e00be3c8d82"
    }
   },
   "outputs": [
    {
     "name": "stdout",
     "output_type": "stream",
     "text": [
      "Float array: [ 1.4  1.   5.   1.6]\n"
     ]
    }
   ],
   "source": [
    "import numpy as np\n",
    "\n",
    "#Array definitions\n",
    "v=np.array([1.4,1,5,1.6]) #implict float typing\n",
    "print(\"Float array:\",v)\n"
   ]
  },
  {
   "cell_type": "code",
   "execution_count": 4,
   "metadata": {
    "collapsed": false
   },
   "outputs": [
    {
     "name": "stdout",
     "output_type": "stream",
     "text": [
      "Int array: [1 2 3 4]\n"
     ]
    }
   ],
   "source": [
    "v=np.array([1,2,3,4]) #implicit int typing\n",
    "print(\"Int array:\",v)\n",
    "\n"
   ]
  },
  {
   "cell_type": "code",
   "execution_count": 6,
   "metadata": {
    "collapsed": false,
    "scrolled": true
   },
   "outputs": [
    {
     "name": "stdout",
     "output_type": "stream",
     "text": [
      "Explicit float array: [ 1.  2.  3.  4.]\n"
     ]
    }
   ],
   "source": [
    "v=np.array([1,2,3,4],dtype=np.float) #explicit float typing\n",
    "print(\"Explicit float array:\",v)\n"
   ]
  },
  {
   "cell_type": "code",
   "execution_count": 8,
   "metadata": {
    "collapsed": false
   },
   "outputs": [
    {
     "name": "stdout",
     "output_type": "stream",
     "text": [
      "Random array contents: [ 0.06514944  0.73084574  0.89611871  0.43362264  0.90652562  0.67770871\n",
      "  0.55632419  0.85949234  0.18888107  0.59449771]\n"
     ]
    }
   ],
   "source": [
    "\n",
    "#Make a random array\n",
    "v = np.random.random(10)\n",
    "print(\"Random array contents:\",v)\n"
   ]
  },
  {
   "cell_type": "code",
   "execution_count": 9,
   "metadata": {
    "collapsed": false
   },
   "outputs": [
    {
     "name": "stdout",
     "output_type": "stream",
     "text": [
      "Sorted random array: [ 0.06514944  0.18888107  0.43362264  0.55632419  0.59449771  0.67770871\n",
      "  0.73084574  0.85949234  0.89611871  0.90652562]\n"
     ]
    }
   ],
   "source": [
    "#Sorting\n",
    "v.sort()\n",
    "print(\"Sorted random array:\",v)"
   ]
  },
  {
   "cell_type": "markdown",
   "metadata": {},
   "source": [
    "## Why use numpy arrays instead of python lists?\n"
   ]
  },
  {
   "cell_type": "code",
   "execution_count": 60,
   "metadata": {
    "collapsed": false
   },
   "outputs": [
    {
     "name": "stdout",
     "output_type": "stream",
     "text": [
      "Mixed type array: [1, 2, 3, 4, 5.0]\n"
     ]
    }
   ],
   "source": [
    "#1. Python arrays are flexible\n",
    "python_v=[1,2,3,4,5.]\n",
    "print(\"Mixed type array:\", python_v)"
   ]
  },
  {
   "cell_type": "code",
   "execution_count": 83,
   "metadata": {
    "collapsed": false
   },
   "outputs": [
    {
     "name": "stdout",
     "output_type": "stream",
     "text": [
      "Numpy average time to sum: 4.769e-05\n",
      "List average time to sum:  2.212e-03\n",
      "Memory size of numpy array: 800000 bytes\n",
      "Memory size of python list: 2800044 bytes\n"
     ]
    }
   ],
   "source": [
    "#2. Numpy arrays are fixed variable type, but much more compact so they are faster!\n",
    "from timeit import Timer\n",
    "from sys import getsizeof\n",
    "\n",
    "NTestTimes = 100 #\n",
    "\n",
    "list_v=range(100000)\n",
    "np_v=np.arange(100000)\n",
    "\n",
    "t_numpy = Timer(\"np_v.sum()\", \"from __main__ import np_v\")\n",
    "t_list = Timer(\"sum(list_v)\", \"from __main__ import list_v\")\n",
    "print(\"Numpy average time to sum: %.3e\" % (t_numpy.timeit(NTestTimes)/NTestTimes,))\n",
    "print(\"List average time to sum:  %.3e\" % (t_list.timeit(NTestTimes)/NTestTimes,))\n",
    "\n",
    "print(\"Memory size of numpy array: %d bytes\"% np_v.nbytes)\n",
    "print(\"Memory size of python list: %d bytes\"% (getsizeof(list_v) + sum(getsizeof(i) for i in list_v)))"
   ]
  },
  {
   "cell_type": "code",
   "execution_count": 49,
   "metadata": {
    "collapsed": false,
    "nbpresent": {
     "id": "38aad152-1473-4ce1-8fb4-a4b8592a473d"
    }
   },
   "outputs": [
    {
     "name": "stdout",
     "output_type": "stream",
     "text": [
      "Random vector: [ 0.89303033  0.77362136  0.89849142]\n",
      "Random vector rotated 45 degrees in yz plane: [ 0.89303033 -0.08829647  1.18236229]\n"
     ]
    }
   ],
   "source": [
    "#3. Matrix operations\n",
    "theta=np.radians(45)\n",
    "c, s = np.cos(theta), np.sin(theta)\n",
    "R=np.array([[1,0,0],[0,c,-s],[0,s,c]])\n",
    "v=np.random.random(3)\n",
    "\n",
    "print(\"Random vector:\",v)\n",
    "print(\"Random vector rotated 45 degrees in yz plane:\",R.dot(v))"
   ]
  }
 ],
 "metadata": {
  "anaconda-cloud": {},
  "kernelspec": {
   "display_name": "Python [conda root]",
   "language": "python",
   "name": "conda-root-py"
  },
  "language_info": {
   "codemirror_mode": {
    "name": "ipython",
    "version": 3
   },
   "file_extension": ".py",
   "mimetype": "text/x-python",
   "name": "python",
   "nbconvert_exporter": "python",
   "pygments_lexer": "ipython3",
   "version": "3.5.2"
  }
 },
 "nbformat": 4,
 "nbformat_minor": 1
}
